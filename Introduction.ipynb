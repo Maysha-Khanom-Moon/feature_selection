{
 "cells": [
  {
   "cell_type": "markdown",
   "metadata": {},
   "source": [
    "<b>Dimensionality reduction</b> and <b>feature selection</b> are related but distinct techniques used to reduce the number of input features\n",
    "\n",
    "![Difference](images/feature_selection_vs_dimensionality_reduction.png)\n",
    "\n",
    "<br>\n",
    "<br>\n",
    "\n",
    "<b>When to Use what?</b> <br>\n",
    "<small>\n",
    "- Use feature selection if you want to keep interpretability and remove irrelevant or redundant features.\n",
    "<br>\n",
    "- Use dimensionality reduction when you need to compress data and preserve as much information as possible.\n",
    "</small>\n",
    "\n",
    "<br>"
   ]
  },
  {
   "cell_type": "markdown",
   "metadata": {},
   "source": [
    "## <b>Feature selection techniques</b>"
   ]
  },
  {
   "cell_type": "markdown",
   "metadata": {},
   "source": [
    "#### <b>Supervised Feature Selection Methods:</b>\n",
    "use the <b>target variable</b> to select the best features\n",
    "\n",
    "![supervised](images/supervised.png)\n",
    "\n",
    "<br>"
   ]
  },
  {
   "cell_type": "markdown",
   "metadata": {},
   "source": [
    "#### <b>Unsupervised Feature Selection Methods:</b>\n",
    "<b>do not use the target variable</b> and focus on reducing redundancy or selecting informative features\n",
    "\n",
    "![supervised](images/unsupervised.png)\n",
    "\n",
    "<br>"
   ]
  },
  {
   "cell_type": "markdown",
   "metadata": {},
   "source": [
    "#### <b>Summary: </b>\n",
    "\n",
    "![summary](images/summary.png)"
   ]
  }
 ],
 "metadata": {
  "kernelspec": {
   "display_name": "Python 3",
   "language": "python",
   "name": "python3"
  },
  "language_info": {
   "codemirror_mode": {
    "name": "ipython",
    "version": 3
   },
   "file_extension": ".py",
   "mimetype": "text/x-python",
   "name": "python",
   "nbconvert_exporter": "python",
   "pygments_lexer": "ipython3",
   "version": "3.12.8"
  }
 },
 "nbformat": 4,
 "nbformat_minor": 2
}
