{
 "cells": [
  {
   "cell_type": "markdown",
   "metadata": {},
   "source": [
    "<b>Dimensionality reduction</b> and <b>feature selection</b> are related but distinct techniques used to reduce the number of input features\n",
    "\n",
    "![Difference](feature_selection_vs_dimensionality_reduction.png)\n",
    "\n",
    "<br>\n",
    "<br>\n",
    "\n",
    "<b>When to Use what?</b> <br>\n",
    "<small>\n",
    "- Use feature selection if you want to keep interpretability and remove irrelevant or redundant features.\n",
    "<br>\n",
    "- Use dimensionality reduction when you need to compress data and preserve as much information as possible.\n",
    "</small>"
   ]
  }
 ],
 "metadata": {
  "language_info": {
   "name": "python"
  }
 },
 "nbformat": 4,
 "nbformat_minor": 2
}
