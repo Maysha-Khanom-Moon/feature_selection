{
 "cells": [
  {
   "cell_type": "markdown",
   "metadata": {},
   "source": [
    "### Feature Selection\n",
    "Feature selection is the process of reducing the input variable to model by using only relevant data and getting rid of noise in data\n",
    "\n",
    "<br>\n",
    "\n",
    "<b>Uses of feature selection: </b>\n",
    "1. prevent learning from noise (overfitting)\n",
    "2. Improved Accuracy\n",
    "3. Reduce training time\n",
    "\n",
    "<br>\n",
    "\n",
    "<b>Methods of feature selection: </b>\n",
    "1. supervised <br>\n",
    "<small>supervised feature selection refers to the method which uses the output label class for feature selection</small>\n",
    "    - intrinsic\n",
    "    - wrapper method\n",
    "    - filter method\n",
    "2. unsupervised\n",
    "\n",
    "<br>"
   ]
  }
 ],
 "metadata": {
  "language_info": {
   "name": "python"
  }
 },
 "nbformat": 4,
 "nbformat_minor": 2
}
